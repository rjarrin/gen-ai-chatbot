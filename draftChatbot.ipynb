{
 "cells": [
  {
   "cell_type": "code",
   "execution_count": 1,
   "id": "1cc466b6-1aa5-47ef-8721-eb1a30e40373",
   "metadata": {},
   "outputs": [],
   "source": [
    "# Disable tensorflow warnings (program uses Pytorch)\n",
    "import os\n",
    "os.environ['TF_CPP_MIN_LOG_LEVEL'] = '2' \n",
    "import tensorflow as tf\n",
    "# Disable hugging face warnings\n",
    "import warnings\n",
    "warnings.filterwarnings(\"ignore\")\n",
    "# Import the required libraries\n",
    "from transformers import AutoTokenizer, AutoModelForSeq2SeqLM"
   ]
  },
  {
   "cell_type": "code",
   "execution_count": 2,
   "id": "9ba18715-d6ab-43c9-a8be-0ae1bd313898",
   "metadata": {},
   "outputs": [
    {
     "data": {
      "application/vnd.jupyter.widget-view+json": {
       "model_id": "7bff8d594cdd4ccbbf2839d677a8d4bf",
       "version_major": 2,
       "version_minor": 0
      },
      "text/plain": [
       "config.json:   0%|          | 0.00/1.57k [00:00<?, ?B/s]"
      ]
     },
     "metadata": {},
     "output_type": "display_data"
    },
    {
     "data": {
      "application/vnd.jupyter.widget-view+json": {
       "model_id": "f05a9d4cfeb34c2eb6902289553f0f93",
       "version_major": 2,
       "version_minor": 0
      },
      "text/plain": [
       "pytorch_model.bin:   0%|          | 0.00/730M [00:00<?, ?B/s]"
      ]
     },
     "metadata": {},
     "output_type": "display_data"
    },
    {
     "data": {
      "application/vnd.jupyter.widget-view+json": {
       "model_id": "5edd68179d0141cf9a201155fbe3571d",
       "version_major": 2,
       "version_minor": 0
      },
      "text/plain": [
       "generation_config.json:   0%|          | 0.00/347 [00:00<?, ?B/s]"
      ]
     },
     "metadata": {},
     "output_type": "display_data"
    },
    {
     "data": {
      "application/vnd.jupyter.widget-view+json": {
       "model_id": "4904a76ebb924d5aaab6f3e8db3ec486",
       "version_major": 2,
       "version_minor": 0
      },
      "text/plain": [
       "tokenizer_config.json:   0%|          | 0.00/1.15k [00:00<?, ?B/s]"
      ]
     },
     "metadata": {},
     "output_type": "display_data"
    },
    {
     "data": {
      "application/vnd.jupyter.widget-view+json": {
       "model_id": "d9a44e2eede84976876e8f180a499e33",
       "version_major": 2,
       "version_minor": 0
      },
      "text/plain": [
       "vocab.json:   0%|          | 0.00/127k [00:00<?, ?B/s]"
      ]
     },
     "metadata": {},
     "output_type": "display_data"
    },
    {
     "data": {
      "application/vnd.jupyter.widget-view+json": {
       "model_id": "c844c4f5c8fb4ed699338df7a6247876",
       "version_major": 2,
       "version_minor": 0
      },
      "text/plain": [
       "merges.txt:   0%|          | 0.00/62.9k [00:00<?, ?B/s]"
      ]
     },
     "metadata": {},
     "output_type": "display_data"
    },
    {
     "data": {
      "application/vnd.jupyter.widget-view+json": {
       "model_id": "8e0ac7bb6042452694821d65f876e13d",
       "version_major": 2,
       "version_minor": 0
      },
      "text/plain": [
       "added_tokens.json:   0%|          | 0.00/16.0 [00:00<?, ?B/s]"
      ]
     },
     "metadata": {},
     "output_type": "display_data"
    },
    {
     "data": {
      "application/vnd.jupyter.widget-view+json": {
       "model_id": "c7df2c2e6b604142a0ec51287d15a309",
       "version_major": 2,
       "version_minor": 0
      },
      "text/plain": [
       "special_tokens_map.json:   0%|          | 0.00/772 [00:00<?, ?B/s]"
      ]
     },
     "metadata": {},
     "output_type": "display_data"
    },
    {
     "data": {
      "application/vnd.jupyter.widget-view+json": {
       "model_id": "326ee54116024830b6c2cf055335c487",
       "version_major": 2,
       "version_minor": 0
      },
      "text/plain": [
       "tokenizer.json:   0%|          | 0.00/310k [00:00<?, ?B/s]"
      ]
     },
     "metadata": {},
     "output_type": "display_data"
    }
   ],
   "source": [
    "# Initialize the model and tokenizer\n",
    "model_name = \"facebook/blenderbot-400M-distill\"\n",
    "# Load model (donwload on first run and reference local installation for consequent runs)\n",
    "model = AutoModelForSeq2SeqLM.from_pretrained(model_name)\n",
    "tokenizer = AutoTokenizer.from_pretrained(model_name)"
   ]
  },
  {
   "cell_type": "code",
   "execution_count": 3,
   "id": "14bedf3e-711e-43ac-a045-b4de549a5359",
   "metadata": {},
   "outputs": [],
   "source": [
    "# Initialize object to store conversation history\n",
    "conversation_history = []"
   ]
  },
  {
   "cell_type": "code",
   "execution_count": 4,
   "id": "38ce88d0-d486-4582-9b65-900fb4501515",
   "metadata": {},
   "outputs": [],
   "source": [
    "# Encode the conversation history as a string\n",
    "history_string = \"\\n\".join(conversation_history)"
   ]
  },
  {
   "cell_type": "code",
   "execution_count": 5,
   "id": "8c6be6d2-7ca7-4502-8197-00f335103079",
   "metadata": {},
   "outputs": [],
   "source": [
    "# Fetch prompt from the user\n",
    "example_input_text = \"hello, how are you doing?\""
   ]
  },
  {
   "cell_type": "code",
   "execution_count": 9,
   "id": "9e1e9ed4-2524-4232-90a4-410a1713c0ec",
   "metadata": {},
   "outputs": [
    {
     "name": "stdout",
     "output_type": "stream",
     "text": [
      "{'input_ids': tensor([[1710,   86,   19,  544,  366,  304,  929,   38]]), 'attention_mask': tensor([[1, 1, 1, 1, 1, 1, 1, 1]])}\n"
     ]
    }
   ],
   "source": [
    "# Tokenize (and optimize) the prompt\n",
    "inputs = tokenizer.encode_plus(history_string, example_input_text, return_tensors=\"pt\")\n",
    "print(inputs)"
   ]
  },
  {
   "cell_type": "code",
   "execution_count": 10,
   "id": "ef528667-b9db-4c54-a039-a9637d66673c",
   "metadata": {},
   "outputs": [
    {
     "data": {
      "text/plain": [
       "{}"
      ]
     },
     "execution_count": 10,
     "metadata": {},
     "output_type": "execute_result"
    }
   ],
   "source": [
    "tokenizer.pretrained_vocab_files_map"
   ]
  },
  {
   "cell_type": "code",
   "execution_count": 11,
   "id": "c4e34029-17f6-445d-a53e-eb01bea1eabc",
   "metadata": {},
   "outputs": [
    {
     "name": "stdout",
     "output_type": "stream",
     "text": [
      "tensor([[   1,  281,  476,  929,  731,   21,  281,  632,  929,  712,  731,   21,\n",
      "          855,  366,  304,   38,  946,  304,  360,  463, 5459, 7930,   38,    2]])\n"
     ]
    }
   ],
   "source": [
    "# Generate output from the model using prompt and history\n",
    "outputs = model.generate(**inputs)\n",
    "print(outputs)"
   ]
  },
  {
   "cell_type": "code",
   "execution_count": 12,
   "id": "1a58780f-99d9-4ad1-bbab-e2a0bf647790",
   "metadata": {},
   "outputs": [
    {
     "name": "stdout",
     "output_type": "stream",
     "text": [
      "I'm doing well. I am doing very well. How are you? Do you have any hobbies?\n"
     ]
    }
   ],
   "source": [
    "# Decode the output\n",
    "response = tokenizer.decode(outputs[0], skip_special_tokens=True).strip()\n",
    "print(response)"
   ]
  },
  {
   "cell_type": "code",
   "execution_count": 14,
   "id": "5f25704f-7b40-4e3c-854b-ba134c33f5f5",
   "metadata": {},
   "outputs": [
    {
     "name": "stdout",
     "output_type": "stream",
     "text": [
      "['hello, how are you doing?', \"I'm doing well. I am doing very well. How are you? Do you have any hobbies?\"]\n"
     ]
    }
   ],
   "source": [
    "# Update the conversation history\n",
    "conversation_history.append(example_input_text)\n",
    "conversation_history.append(response)\n",
    "print(conversation_history)"
   ]
  },
  {
   "cell_type": "code",
   "execution_count": null,
   "id": "73704a1c-5e65-44a8-b6bb-3ae2fba429c3",
   "metadata": {},
   "outputs": [],
   "source": []
  }
 ],
 "metadata": {
  "kernelspec": {
   "display_name": "Python 3 (ipykernel)",
   "language": "python",
   "name": "python3"
  },
  "language_info": {
   "codemirror_mode": {
    "name": "ipython",
    "version": 3
   },
   "file_extension": ".py",
   "mimetype": "text/x-python",
   "name": "python",
   "nbconvert_exporter": "python",
   "pygments_lexer": "ipython3",
   "version": "3.10.12"
  }
 },
 "nbformat": 4,
 "nbformat_minor": 5
}
